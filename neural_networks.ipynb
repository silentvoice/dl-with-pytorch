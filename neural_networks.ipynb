{
  "nbformat": 4,
  "nbformat_minor": 0,
  "metadata": {
    "colab": {
      "name": "NeuralNetworks",
      "version": "0.3.2",
      "provenance": [],
      "include_colab_link": true
    },
    "kernelspec": {
      "name": "python3",
      "display_name": "Python 3"
    },
    "accelerator": "GPU"
  },
  "cells": [
    {
      "cell_type": "markdown",
      "metadata": {
        "id": "view-in-github",
        "colab_type": "text"
      },
      "source": [
        "<a href=\"https://colab.research.google.com/github/silentvoice/dl-with-pytorch/blob/master/neural_networks.ipynb\" target=\"_parent\"><img src=\"https://colab.research.google.com/assets/colab-badge.svg\" alt=\"Open In Colab\"/></a>"
      ]
    },
    {
      "metadata": {
        "id": "eVInGwBUOojK",
        "colab_type": "text"
      },
      "cell_type": "markdown",
      "source": [
        "#Neural Networks"
      ]
    },
    {
      "metadata": {
        "id": "YjiX7gFmO45N",
        "colab_type": "text"
      },
      "cell_type": "markdown",
      "source": [
        "## Install Dependencies"
      ]
    },
    {
      "metadata": {
        "id": "sr1wI3FyN71Y",
        "colab_type": "code",
        "colab": {
          "base_uri": "https://localhost:8080/",
          "height": 102
        },
        "outputId": "b66157f9-e518-4715-9785-627fd6450916"
      },
      "cell_type": "code",
      "source": [
        "!pip install torch torchvision"
      ],
      "execution_count": 65,
      "outputs": [
        {
          "output_type": "stream",
          "text": [
            "Requirement already satisfied: torch in /usr/local/lib/python3.6/dist-packages (1.0.0)\n",
            "Requirement already satisfied: torchvision in /usr/local/lib/python3.6/dist-packages (0.2.1)\n",
            "Requirement already satisfied: numpy in /usr/local/lib/python3.6/dist-packages (from torchvision) (1.14.6)\n",
            "Requirement already satisfied: six in /usr/local/lib/python3.6/dist-packages (from torchvision) (1.11.0)\n",
            "Requirement already satisfied: pillow>=4.1.1 in /usr/local/lib/python3.6/dist-packages (from torchvision) (5.4.0)\n"
          ],
          "name": "stdout"
        }
      ]
    },
    {
      "metadata": {
        "id": "6s09EGEgOmvN",
        "colab_type": "text"
      },
      "cell_type": "markdown",
      "source": [
        "## Import the required packages"
      ]
    },
    {
      "metadata": {
        "id": "rDxVybfaPI7B",
        "colab_type": "code",
        "colab": {}
      },
      "cell_type": "code",
      "source": [
        "import numpy as np"
      ],
      "execution_count": 0,
      "outputs": []
    },
    {
      "metadata": {
        "id": "7Hcc6e46PMSS",
        "colab_type": "code",
        "colab": {}
      },
      "cell_type": "code",
      "source": [
        "import torch"
      ],
      "execution_count": 0,
      "outputs": []
    },
    {
      "metadata": {
        "id": "GZzBtv3cS1i2",
        "colab_type": "code",
        "colab": {}
      },
      "cell_type": "code",
      "source": [
        "import torchvision"
      ],
      "execution_count": 0,
      "outputs": []
    },
    {
      "metadata": {
        "id": "hoX-q7mmPPSJ",
        "colab_type": "code",
        "colab": {}
      },
      "cell_type": "code",
      "source": [
        "import matplotlib.pyplot as plt"
      ],
      "execution_count": 0,
      "outputs": []
    },
    {
      "metadata": {
        "id": "fz1yd2CKQAlx",
        "colab_type": "code",
        "colab": {}
      },
      "cell_type": "code",
      "source": [
        "from torch import nn"
      ],
      "execution_count": 0,
      "outputs": []
    },
    {
      "metadata": {
        "id": "Omjvhot1S_JM",
        "colab_type": "code",
        "colab": {}
      },
      "cell_type": "code",
      "source": [
        "import torch.nn.functional as F"
      ],
      "execution_count": 0,
      "outputs": []
    },
    {
      "metadata": {
        "id": "Dv7Dq0EKiAPq",
        "colab_type": "code",
        "colab": {}
      },
      "cell_type": "code",
      "source": [
        "from torchvision import datasets, transforms"
      ],
      "execution_count": 0,
      "outputs": []
    },
    {
      "metadata": {
        "id": "8tHmcMCeTLSf",
        "colab_type": "code",
        "colab": {}
      },
      "cell_type": "code",
      "source": [
        "from collections import OrderedDict"
      ],
      "execution_count": 0,
      "outputs": []
    },
    {
      "metadata": {
        "id": "T75cHijhTPNj",
        "colab_type": "text"
      },
      "cell_type": "markdown",
      "source": [
        "## Load MNIST Dataset"
      ]
    },
    {
      "metadata": {
        "id": "rU-53P93TYaX",
        "colab_type": "text"
      },
      "cell_type": "markdown",
      "source": [
        "### Create a transform to normalize the MNIST Data"
      ]
    },
    {
      "metadata": {
        "id": "RtnqpruIZEjj",
        "colab_type": "code",
        "colab": {}
      },
      "cell_type": "code",
      "source": [
        "transform = transforms.Compose([transforms.ToTensor(), transforms.Normalize((0.5,), (0.5,))])"
      ],
      "execution_count": 0,
      "outputs": []
    },
    {
      "metadata": {
        "id": "1ZrvOWLRZRp_",
        "colab_type": "text"
      },
      "cell_type": "markdown",
      "source": [
        "### Download MNIST Data"
      ]
    },
    {
      "metadata": {
        "id": "Xv8C-bOaYru3",
        "colab_type": "code",
        "colab": {}
      },
      "cell_type": "code",
      "source": [
        "mnist_train_dataset = datasets.MNIST('mnist_train_data', download=True, train=True, transform=transform)"
      ],
      "execution_count": 0,
      "outputs": []
    },
    {
      "metadata": {
        "id": "3mf0VMlpaGhn",
        "colab_type": "code",
        "colab": {}
      },
      "cell_type": "code",
      "source": [
        "mnist_train_data_loader = torch.utils.data.DataLoader(mnist_train_dataset, batch_size=64, shuffle=True)"
      ],
      "execution_count": 0,
      "outputs": []
    },
    {
      "metadata": {
        "id": "XYTsuQNHrcOF",
        "colab_type": "text"
      },
      "cell_type": "markdown",
      "source": [
        "### Check sample MNIST image"
      ]
    },
    {
      "metadata": {
        "id": "znGGo3-Qituk",
        "colab_type": "code",
        "colab": {}
      },
      "cell_type": "code",
      "source": [
        "train_data_iterator = iter(mnist_train_data_loader)"
      ],
      "execution_count": 0,
      "outputs": []
    },
    {
      "metadata": {
        "id": "AMSHosTUi81f",
        "colab_type": "code",
        "colab": {}
      },
      "cell_type": "code",
      "source": [
        "train_images, train_labels = train_data_iterator.next()"
      ],
      "execution_count": 0,
      "outputs": []
    },
    {
      "metadata": {
        "id": "j3gDFwsAjH6P",
        "colab_type": "code",
        "colab": {
          "base_uri": "https://localhost:8080/",
          "height": 34
        },
        "outputId": "e7142645-baf2-4564-d106-31d3c4755561"
      },
      "cell_type": "code",
      "source": [
        "train_images.shape"
      ],
      "execution_count": 79,
      "outputs": [
        {
          "output_type": "execute_result",
          "data": {
            "text/plain": [
              "torch.Size([64, 1, 28, 28])"
            ]
          },
          "metadata": {
            "tags": []
          },
          "execution_count": 79
        }
      ]
    },
    {
      "metadata": {
        "id": "Lk12Kn8XjK86",
        "colab_type": "code",
        "colab": {
          "base_uri": "https://localhost:8080/",
          "height": 34
        },
        "outputId": "154498d6-d13b-40be-e7f5-05e25aa54984"
      },
      "cell_type": "code",
      "source": [
        "train_labels.shape"
      ],
      "execution_count": 16,
      "outputs": [
        {
          "output_type": "execute_result",
          "data": {
            "text/plain": [
              "torch.Size([64])"
            ]
          },
          "metadata": {
            "tags": []
          },
          "execution_count": 16
        }
      ]
    },
    {
      "metadata": {
        "id": "oaBKmsRBTTx8",
        "colab_type": "code",
        "colab": {
          "base_uri": "https://localhost:8080/",
          "height": 68
        },
        "outputId": "fac0939f-d767-4947-cb4f-9a985626579c"
      },
      "cell_type": "code",
      "source": [
        "train_labels"
      ],
      "execution_count": 80,
      "outputs": [
        {
          "output_type": "execute_result",
          "data": {
            "text/plain": [
              "tensor([8, 5, 3, 8, 3, 5, 9, 9, 4, 8, 2, 1, 3, 8, 4, 7, 6, 3, 2, 4, 7, 6, 8, 7,\n",
              "        1, 5, 4, 4, 7, 9, 0, 9, 1, 3, 0, 1, 4, 8, 1, 4, 7, 5, 1, 5, 8, 9, 7, 2,\n",
              "        8, 0, 9, 7, 1, 5, 3, 1, 2, 2, 4, 0, 5, 3, 6, 4])"
            ]
          },
          "metadata": {
            "tags": []
          },
          "execution_count": 80
        }
      ]
    },
    {
      "metadata": {
        "id": "jMPIsTMAjPHX",
        "colab_type": "code",
        "colab": {
          "base_uri": "https://localhost:8080/",
          "height": 364
        },
        "outputId": "b01531d6-b47b-42ba-e09c-de9f236f35ed"
      },
      "cell_type": "code",
      "source": [
        "plt.imshow(train_images[63].numpy().squeeze(), cmap='gray')"
      ],
      "execution_count": 83,
      "outputs": [
        {
          "output_type": "execute_result",
          "data": {
            "text/plain": [
              "<matplotlib.image.AxesImage at 0x7fc8577dc400>"
            ]
          },
          "metadata": {
            "tags": []
          },
          "execution_count": 83
        },
        {
          "output_type": "display_data",
          "data": {
            "image/png": "[encoded data removed]",
            "text/plain": [
              "<matplotlib.figure.Figure at 0x7fc85790e9b0>"
            ]
          },
          "metadata": {
            "tags": []
          }
        }
      ]
    },
    {
      "metadata": {
        "id": "oz5uLeKVj3OS",
        "colab_type": "text"
      },
      "cell_type": "markdown",
      "source": [
        "## Build Simple Neural Network"
      ]
    },
    {
      "metadata": {
        "id": "nHYnJifPrC4S",
        "colab_type": "code",
        "colab": {}
      },
      "cell_type": "code",
      "source": [
        "class NeuralNetwork(nn.Module):\n",
        "    def __init__(self):\n",
        "        super().__init__()\n",
        "        \n",
        "        # Defining Neural Network Layers\n",
        "        \n",
        "        # Inputs to hidden layer \n",
        "        self.hidden_layer = nn.Linear(784, 256)\n",
        "        \n",
        "        # Output layer, 10 units - one for each digit\n",
        "        self.output_layer = nn.Linear(256, 10)\n",
        "        \n",
        "       \n",
        "        \n",
        "    def forward(self, x):\n",
        "        # Pass the input tensor through each of our operations\n",
        "        \n",
        "        # Hidden layer with relu activation\n",
        "        x = F.relu(self.hidden_layer(x))\n",
        "        \n",
        "        # Output layer with softmax activation\n",
        "        x = F.softmax(self.output_layer(x), dim=1)\n",
        "        \n",
        "        return x"
      ],
      "execution_count": 0,
      "outputs": []
    },
    {
      "metadata": {
        "id": "J0LTrrCnrFKr",
        "colab_type": "code",
        "colab": {}
      },
      "cell_type": "code",
      "source": [
        "model = NeuralNetwork()"
      ],
      "execution_count": 0,
      "outputs": []
    },
    {
      "metadata": {
        "id": "18Btakratdda",
        "colab_type": "code",
        "colab": {
          "base_uri": "https://localhost:8080/",
          "height": 85
        },
        "outputId": "f6a711fb-164c-4d0e-88db-721cafa1a17c"
      },
      "cell_type": "code",
      "source": [
        "model"
      ],
      "execution_count": 87,
      "outputs": [
        {
          "output_type": "execute_result",
          "data": {
            "text/plain": [
              "NeuralNetwork(\n",
              "  (hidden_layer): Linear(in_features=784, out_features=256, bias=True)\n",
              "  (output_layer): Linear(in_features=256, out_features=10, bias=True)\n",
              ")"
            ]
          },
          "metadata": {
            "tags": []
          },
          "execution_count": 87
        }
      ]
    },
    {
      "metadata": {
        "id": "wG8RjR7Wtsu3",
        "colab_type": "code",
        "colab": {
          "base_uri": "https://localhost:8080/",
          "height": 34
        },
        "outputId": "a9a22500-28ec-4343-c5a7-7f087c631f39"
      },
      "cell_type": "code",
      "source": [
        "model.hidden_layer"
      ],
      "execution_count": 88,
      "outputs": [
        {
          "output_type": "execute_result",
          "data": {
            "text/plain": [
              "Linear(in_features=784, out_features=256, bias=True)"
            ]
          },
          "metadata": {
            "tags": []
          },
          "execution_count": 88
        }
      ]
    },
    {
      "metadata": {
        "id": "fi6xcOAZt1Jy",
        "colab_type": "code",
        "colab": {
          "base_uri": "https://localhost:8080/",
          "height": 170
        },
        "outputId": "9b02ab41-747a-4c66-f8ab-214ab721e4ba"
      },
      "cell_type": "code",
      "source": [
        "model.hidden_layer.weight"
      ],
      "execution_count": 91,
      "outputs": [
        {
          "output_type": "execute_result",
          "data": {
            "text/plain": [
              "Parameter containing:\n",
              "tensor([[-0.0074,  0.0246, -0.0022,  ..., -0.0072, -0.0064,  0.0072],\n",
              "        [ 0.0088, -0.0035, -0.0294,  ..., -0.0015,  0.0317,  0.0110],\n",
              "        [-0.0020, -0.0297,  0.0251,  ...,  0.0043, -0.0045, -0.0243],\n",
              "        ...,\n",
              "        [ 0.0207,  0.0235,  0.0051,  ...,  0.0214,  0.0127,  0.0052],\n",
              "        [ 0.0075, -0.0013, -0.0140,  ...,  0.0079, -0.0142,  0.0102],\n",
              "        [ 0.0198,  0.0309, -0.0052,  ...,  0.0308,  0.0277,  0.0226]],\n",
              "       requires_grad=True)"
            ]
          },
          "metadata": {
            "tags": []
          },
          "execution_count": 91
        }
      ]
    },
    {
      "metadata": {
        "id": "y-hgkVHat4sv",
        "colab_type": "code",
        "colab": {
          "base_uri": "https://localhost:8080/",
          "height": 918
        },
        "outputId": "b0518d3a-38b0-4f11-fd9a-416b60ef7d6d"
      },
      "cell_type": "code",
      "source": [
        "model.hidden_layer.bias"
      ],
      "execution_count": 92,
      "outputs": [
        {
          "output_type": "execute_result",
          "data": {
            "text/plain": [
              "Parameter containing:\n",
              "tensor([ 1.0603e-02,  5.3240e-03, -3.1488e-03, -3.5443e-02, -1.7900e-02,\n",
              "         2.0917e-02, -3.0993e-02,  8.3178e-03,  1.8445e-02, -2.5254e-02,\n",
              "        -2.4799e-02,  2.1171e-03,  1.7996e-02,  3.2114e-02,  1.4576e-03,\n",
              "         3.1287e-02,  3.1876e-02, -1.7961e-03, -3.0859e-02, -6.9890e-03,\n",
              "        -3.4470e-02,  3.2287e-02, -6.6298e-04,  3.2993e-02,  2.0128e-02,\n",
              "        -1.3109e-02, -3.4858e-02,  2.2103e-02,  3.1183e-02,  6.4761e-03,\n",
              "         2.8369e-02, -2.9250e-02,  1.5490e-02, -1.8439e-02, -5.7438e-03,\n",
              "        -2.3530e-02,  9.5229e-03, -2.0874e-02, -1.6325e-02, -2.1834e-02,\n",
              "         2.6869e-03,  3.5207e-02,  8.4175e-03, -7.0450e-03, -3.0584e-02,\n",
              "        -7.7795e-03,  2.3968e-02,  2.1684e-02, -3.4559e-02, -2.1114e-02,\n",
              "         1.1207e-03,  3.4758e-03, -3.0347e-02, -1.8651e-02, -7.6235e-03,\n",
              "        -3.2902e-02,  2.7477e-02, -1.7850e-02, -1.5166e-02, -2.0678e-02,\n",
              "        -2.0761e-02,  3.0013e-03,  1.9726e-02, -5.5569e-03,  2.4312e-03,\n",
              "        -1.7634e-02,  6.5209e-03, -1.2010e-02,  2.0992e-02,  2.7265e-02,\n",
              "        -6.4259e-04,  3.1891e-02,  2.7462e-02, -1.5413e-02, -2.6478e-02,\n",
              "         2.0012e-02, -1.9136e-02,  1.3827e-02, -3.2154e-02,  3.0592e-02,\n",
              "         3.5569e-02, -3.4900e-02, -3.5657e-02, -2.2390e-02, -2.9856e-02,\n",
              "         2.2732e-02,  2.5699e-02,  1.8914e-02, -3.3867e-02,  9.2984e-03,\n",
              "        -3.1278e-02,  2.8490e-02,  2.2912e-02, -3.1026e-02,  2.6383e-02,\n",
              "        -5.2002e-03,  5.2887e-03,  1.6252e-02, -4.2105e-03, -2.6924e-02,\n",
              "         2.4651e-02, -2.7795e-02,  1.6981e-02,  1.0012e-02, -2.5391e-02,\n",
              "         8.9403e-03, -7.6438e-03,  4.7486e-03, -2.8173e-02,  1.5249e-02,\n",
              "         3.6178e-04, -3.5450e-02,  2.7289e-02, -3.0917e-02, -3.1227e-02,\n",
              "        -8.2981e-03,  4.2381e-03, -1.7383e-02,  1.2471e-02, -2.0423e-02,\n",
              "        -2.4740e-02,  6.5947e-03, -2.6577e-02, -2.9305e-02, -3.1254e-03,\n",
              "        -3.2034e-02, -1.9865e-02,  1.4658e-02,  2.8771e-02, -3.5044e-02,\n",
              "         1.2380e-03,  7.8534e-03, -3.2682e-02,  3.1966e-02,  1.5756e-02,\n",
              "         3.3557e-02, -2.5597e-02, -2.0943e-02,  3.2261e-02,  3.4880e-02,\n",
              "        -2.2860e-02,  1.6563e-02, -2.8240e-02,  2.7397e-02, -3.1028e-02,\n",
              "         3.3822e-02,  1.4331e-03, -2.5697e-02,  6.3716e-03, -9.4583e-03,\n",
              "        -2.8023e-02, -3.3288e-02, -1.4458e-02,  1.7629e-02,  1.7017e-02,\n",
              "         3.2760e-02, -1.4073e-02,  5.8343e-03, -3.3333e-02, -6.6251e-03,\n",
              "         1.9974e-02, -2.6432e-02,  1.3104e-03,  1.3824e-03,  1.7358e-02,\n",
              "         3.4956e-02, -2.5529e-02,  1.9002e-02, -3.2015e-02,  2.5126e-02,\n",
              "        -1.5493e-02,  1.4544e-02,  1.0714e-02,  2.5298e-02, -9.0689e-03,\n",
              "        -3.3172e-03,  2.4510e-02,  2.5568e-02,  2.9647e-02, -1.1571e-02,\n",
              "         2.9411e-02,  2.3580e-02, -1.8444e-02,  8.5881e-03, -2.4337e-02,\n",
              "        -3.3390e-05, -1.0701e-03, -2.2597e-02,  2.7118e-02,  2.8653e-02,\n",
              "         3.1723e-02, -1.0945e-02, -3.4101e-02, -1.2961e-02,  2.0868e-03,\n",
              "        -1.1782e-02,  8.2667e-03,  8.7455e-03, -1.9074e-02, -8.2892e-03,\n",
              "        -2.3027e-02, -1.9927e-02, -3.2032e-02, -3.1565e-02,  5.8704e-03,\n",
              "        -3.3962e-02, -8.2882e-03,  2.5295e-02, -1.2073e-02,  8.3523e-03,\n",
              "        -1.9028e-02, -2.9943e-02, -9.6960e-03, -2.0076e-03, -2.1153e-02,\n",
              "         1.7912e-02,  1.5733e-02, -2.0374e-02, -3.5048e-02, -7.3071e-03,\n",
              "         1.8044e-02, -2.8136e-02, -3.1944e-03,  3.2761e-02, -2.5092e-02,\n",
              "         7.6368e-03, -2.0826e-03,  1.5461e-02,  1.4843e-03, -2.7180e-02,\n",
              "        -1.5264e-02, -2.3468e-02, -2.7457e-02, -3.2642e-02,  2.1044e-02,\n",
              "         2.6110e-02,  3.4004e-02, -3.2287e-02, -1.3787e-02, -2.1850e-03,\n",
              "         2.7083e-02,  3.4977e-02, -7.8080e-03,  1.5345e-02,  2.5821e-02,\n",
              "         2.7281e-02, -4.5478e-03,  5.8053e-03, -7.6970e-03,  3.4084e-02,\n",
              "        -1.0025e-04, -3.5711e-02,  2.0193e-02, -7.1818e-04, -8.7436e-03,\n",
              "        -1.6314e-02], requires_grad=True)"
            ]
          },
          "metadata": {
            "tags": []
          },
          "execution_count": 92
        }
      ]
    },
    {
      "metadata": {
        "id": "436mSgKXwO-C",
        "colab_type": "text"
      },
      "cell_type": "markdown",
      "source": [
        "## Define a loss function"
      ]
    },
    {
      "metadata": {
        "id": "4BC2K4ufxP61",
        "colab_type": "code",
        "colab": {}
      },
      "cell_type": "code",
      "source": [
        "criterion = nn.CrossEntropyLoss()"
      ],
      "execution_count": 0,
      "outputs": []
    },
    {
      "metadata": {
        "id": "1bgDvPpUxXTB",
        "colab_type": "text"
      },
      "cell_type": "markdown",
      "source": [
        "### Calculating loss for a single batch"
      ]
    },
    {
      "metadata": {
        "id": "SXCRXMwEzBN2",
        "colab_type": "code",
        "colab": {
          "base_uri": "https://localhost:8080/",
          "height": 34
        },
        "outputId": "948d34f2-dd25-4a60-958e-b0a991fddf15"
      },
      "cell_type": "code",
      "source": [
        "train_images.shape"
      ],
      "execution_count": 95,
      "outputs": [
        {
          "output_type": "execute_result",
          "data": {
            "text/plain": [
              "torch.Size([64, 1, 28, 28])"
            ]
          },
          "metadata": {
            "tags": []
          },
          "execution_count": 95
        }
      ]
    },
    {
      "metadata": {
        "id": "nedJMnB1yZAB",
        "colab_type": "code",
        "colab": {}
      },
      "cell_type": "code",
      "source": [
        "train_images_batch = train_images.view(train_images.shape[0], -1)"
      ],
      "execution_count": 0,
      "outputs": []
    },
    {
      "metadata": {
        "id": "n9bG9xkOV_ZP",
        "colab_type": "code",
        "colab": {
          "base_uri": "https://localhost:8080/",
          "height": 34
        },
        "outputId": "bc1a8fe1-8a2c-4eb1-de45-ee033891e098"
      },
      "cell_type": "code",
      "source": [
        "train_images_batch.shape"
      ],
      "execution_count": 97,
      "outputs": [
        {
          "output_type": "execute_result",
          "data": {
            "text/plain": [
              "torch.Size([64, 784])"
            ]
          },
          "metadata": {
            "tags": []
          },
          "execution_count": 97
        }
      ]
    },
    {
      "metadata": {
        "id": "u-_AXJu9zUA9",
        "colab_type": "code",
        "colab": {}
      },
      "cell_type": "code",
      "source": [
        "output_predictions = model(train_images_batch)"
      ],
      "execution_count": 0,
      "outputs": []
    },
    {
      "metadata": {
        "id": "n8KflMeYz0jA",
        "colab_type": "code",
        "colab": {}
      },
      "cell_type": "code",
      "source": [
        "loss = criterion(output_predictions, train_labels)\n"
      ],
      "execution_count": 0,
      "outputs": []
    },
    {
      "metadata": {
        "id": "SEq9Tktpz-ub",
        "colab_type": "code",
        "colab": {
          "base_uri": "https://localhost:8080/",
          "height": 34
        },
        "outputId": "28115220-dc7e-4bcd-f457-e62e0e8359a1"
      },
      "cell_type": "code",
      "source": [
        "loss"
      ],
      "execution_count": 100,
      "outputs": [
        {
          "output_type": "execute_result",
          "data": {
            "text/plain": [
              "tensor(2.3025, grad_fn=<NllLossBackward>)"
            ]
          },
          "metadata": {
            "tags": []
          },
          "execution_count": 100
        }
      ]
    },
    {
      "metadata": {
        "id": "Cq_irpnM0Ez3",
        "colab_type": "text"
      },
      "cell_type": "markdown",
      "source": [
        "## Train the network"
      ]
    },
    {
      "metadata": {
        "id": "YLzJ-SjC03f3",
        "colab_type": "text"
      },
      "cell_type": "markdown",
      "source": [
        "### Define optimizer"
      ]
    },
    {
      "metadata": {
        "id": "37RZ21gU1kBo",
        "colab_type": "code",
        "colab": {}
      },
      "cell_type": "code",
      "source": [
        "optimizer = torch.optim.SGD(model.parameters(), lr=0.01)"
      ],
      "execution_count": 0,
      "outputs": []
    },
    {
      "metadata": {
        "id": "PaS7tsQi34rX",
        "colab_type": "text"
      },
      "cell_type": "markdown",
      "source": [
        "### Training using the training images"
      ]
    },
    {
      "metadata": {
        "id": "jMai8WOY1mLm",
        "colab_type": "code",
        "colab": {
          "base_uri": "https://localhost:8080/",
          "height": 153
        },
        "outputId": "688933c0-e068-4693-fbdb-ac700771b3fb"
      },
      "cell_type": "code",
      "source": [
        "epochs = 8\n",
        "for e in range(epochs):\n",
        "  \n",
        "    training_loss = 0\n",
        "    for train_images, train_labels in mnist_train_data_loader:\n",
        "\n",
        "        # Flatten train images batch \n",
        "        images = train_images.view(train_images.shape[0], -1)\n",
        "    \n",
        "        # Make the gradient values to zero\n",
        "        optimizer.zero_grad()\n",
        "        \n",
        "        # get output predictions from the images\n",
        "        output_predictions = model(images)\n",
        "        \n",
        "        # Calculate loss\n",
        "        loss = criterion(output_predictions, train_labels)\n",
        "        \n",
        "        # Do a backward pass to find the gradients\n",
        "        loss.backward()\n",
        "        \n",
        "        # Update the weights of the parameters\n",
        "        optimizer.step()\n",
        "        \n",
        "        training_loss += loss.item()\n",
        "     \n",
        "    else:\n",
        "        print(f\"Training loss for epoch - {e}: {training_loss/len(mnist_train_data_loader)}\")\n",
        "        \n",
        "       "
      ],
      "execution_count": 102,
      "outputs": [
        {
          "output_type": "stream",
          "text": [
            "Training loss for epoch - 0: 2.2109118236153367\n",
            "Training loss for epoch - 1: 1.9148478128000108\n",
            "Training loss for epoch - 2: 1.7970954192472672\n",
            "Training loss for epoch - 3: 1.727227399979573\n",
            "Training loss for epoch - 4: 1.6798350539034619\n",
            "Training loss for epoch - 5: 1.662363017037479\n",
            "Training loss for epoch - 6: 1.6527714126908195\n",
            "Training loss for epoch - 7: 1.6464421489853849\n"
          ],
          "name": "stdout"
        }
      ]
    },
    {
      "metadata": {
        "id": "8XA6GkZeZT7T",
        "colab_type": "text"
      },
      "cell_type": "markdown",
      "source": [
        "## Inference on a digit"
      ]
    },
    {
      "metadata": {
        "id": "JAjvOncgZp30",
        "colab_type": "code",
        "colab": {}
      },
      "cell_type": "code",
      "source": [
        "images, labels = next(iter(mnist_train_data_loader))"
      ],
      "execution_count": 0,
      "outputs": []
    },
    {
      "metadata": {
        "id": "AKvB8oFCZ5hg",
        "colab_type": "code",
        "colab": {}
      },
      "cell_type": "code",
      "source": [
        "infer_img = images[1].view(1, 784)"
      ],
      "execution_count": 0,
      "outputs": []
    },
    {
      "metadata": {
        "id": "bDStvojwaDkS",
        "colab_type": "code",
        "colab": {}
      },
      "cell_type": "code",
      "source": [
        "with torch.no_grad():\n",
        "    output_prediction = model(infer_img)"
      ],
      "execution_count": 0,
      "outputs": []
    },
    {
      "metadata": {
        "id": "NJU5eExef7AR",
        "colab_type": "code",
        "colab": {
          "base_uri": "https://localhost:8080/",
          "height": 34
        },
        "outputId": "08db3bac-02cc-4a47-b652-987351c4eb85"
      },
      "cell_type": "code",
      "source": [
        "output_prediction.shape"
      ],
      "execution_count": 140,
      "outputs": [
        {
          "output_type": "execute_result",
          "data": {
            "text/plain": [
              "torch.Size([1, 10])"
            ]
          },
          "metadata": {
            "tags": []
          },
          "execution_count": 140
        }
      ]
    },
    {
      "metadata": {
        "id": "glZz3cCdaJf7",
        "colab_type": "code",
        "colab": {}
      },
      "cell_type": "code",
      "source": [
        "probabilities = output_prediction.data.numpy().squeeze()"
      ],
      "execution_count": 0,
      "outputs": []
    },
    {
      "metadata": {
        "id": "_mDPpGq3jRKg",
        "colab_type": "code",
        "colab": {
          "base_uri": "https://localhost:8080/",
          "height": 34
        },
        "outputId": "f9b05890-f341-4c5d-8b21-93a4ce114c38"
      },
      "cell_type": "code",
      "source": [
        "probabilities.shape"
      ],
      "execution_count": 142,
      "outputs": [
        {
          "output_type": "execute_result",
          "data": {
            "text/plain": [
              "(10,)"
            ]
          },
          "metadata": {
            "tags": []
          },
          "execution_count": 142
        }
      ]
    },
    {
      "metadata": {
        "id": "TXhhhphZkEdt",
        "colab_type": "code",
        "colab": {
          "base_uri": "https://localhost:8080/",
          "height": 68
        },
        "outputId": "58518112-99bd-4b79-9fea-cf9d116ad3df"
      },
      "cell_type": "code",
      "source": [
        "probabilities"
      ],
      "execution_count": 143,
      "outputs": [
        {
          "output_type": "execute_result",
          "data": {
            "text/plain": [
              "array([1.0259878e-05, 1.7082199e-09, 3.9221057e-05, 1.2606553e-10,\n",
              "       6.9357616e-06, 5.4579822e-08, 9.9993396e-01, 1.9780834e-10,\n",
              "       8.8604229e-06, 6.7455119e-07], dtype=float32)"
            ]
          },
          "metadata": {
            "tags": []
          },
          "execution_count": 143
        }
      ]
    },
    {
      "metadata": {
        "id": "vZfMLi4vl649",
        "colab_type": "code",
        "colab": {
          "base_uri": "https://localhost:8080/",
          "height": 364
        },
        "outputId": "1de32f45-ce55-4e55-a168-aae6d9bad4fc"
      },
      "cell_type": "code",
      "source": [
        "plt.imshow(infer_img.resize_(1, 28, 28).numpy().squeeze(), cmap='gray')"
      ],
      "execution_count": 145,
      "outputs": [
        {
          "output_type": "execute_result",
          "data": {
            "text/plain": [
              "<matplotlib.image.AxesImage at 0x7fc8576c1eb8>"
            ]
          },
          "metadata": {
            "tags": []
          },
          "execution_count": 145
        },
        {
          "output_type": "display_data",
          "data": {
            "image/png": "[encoded data removed]",
            "text/plain": [
              "<matplotlib.figure.Figure at 0x7fc8577545c0>"
            ]
          },
          "metadata": {
            "tags": []
          }
        }
      ]
    },
    {
      "metadata": {
        "id": "AozKROLJmMoB",
        "colab_type": "code",
        "colab": {}
      },
      "cell_type": "code",
      "source": [
        ""
      ],
      "execution_count": 0,
      "outputs": []
    }
  ]
}